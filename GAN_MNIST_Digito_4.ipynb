{
  "nbformat": 4,
  "nbformat_minor": 0,
  "metadata": {
    "colab": {
      "provenance": [],
      "authorship_tag": "ABX9TyNj/dofmaGUMmbVIYWFSuT8",
      "include_colab_link": true
    },
    "kernelspec": {
      "name": "python3",
      "display_name": "Python 3"
    },
    "language_info": {
      "name": "python"
    }
  },
  "cells": [
    {
      "cell_type": "markdown",
      "metadata": {
        "id": "view-in-github",
        "colab_type": "text"
      },
      "source": [
        "<a href=\"https://colab.research.google.com/github/dede0702/mnist-digit-4-gan/blob/main/GAN_MNIST_Digito_4.ipynb\" target=\"_parent\"><img src=\"https://colab.research.google.com/assets/colab-badge.svg\" alt=\"Open In Colab\"/></a>"
      ]
    },
    {
      "cell_type": "markdown",
      "source": [
        " ```\n",
        "🧩 Etapa 1: Instalar dependências\n",
        " ```"
      ],
      "metadata": {
        "id": "jR-GcI5rMkdf"
      }
    },
    {
      "cell_type": "code",
      "execution_count": 22,
      "metadata": {
        "id": "PwRYa4Xe7x0e",
        "colab": {
          "base_uri": "https://localhost:8080/"
        },
        "outputId": "a12691f5-7027-4801-beb2-e6a45db38b0d"
      },
      "outputs": [
        {
          "output_type": "stream",
          "name": "stdout",
          "text": [
            "Requirement already satisfied: torch in /usr/local/lib/python3.11/dist-packages (2.6.0+cu124)\n",
            "Requirement already satisfied: torchvision in /usr/local/lib/python3.11/dist-packages (0.21.0+cu124)\n",
            "Requirement already satisfied: matplotlib in /usr/local/lib/python3.11/dist-packages (3.10.0)\n",
            "Requirement already satisfied: filelock in /usr/local/lib/python3.11/dist-packages (from torch) (3.18.0)\n",
            "Requirement already satisfied: typing-extensions>=4.10.0 in /usr/local/lib/python3.11/dist-packages (from torch) (4.13.2)\n",
            "Requirement already satisfied: networkx in /usr/local/lib/python3.11/dist-packages (from torch) (3.4.2)\n",
            "Requirement already satisfied: jinja2 in /usr/local/lib/python3.11/dist-packages (from torch) (3.1.6)\n",
            "Requirement already satisfied: fsspec in /usr/local/lib/python3.11/dist-packages (from torch) (2025.3.2)\n",
            "Requirement already satisfied: nvidia-cuda-nvrtc-cu12==12.4.127 in /usr/local/lib/python3.11/dist-packages (from torch) (12.4.127)\n",
            "Requirement already satisfied: nvidia-cuda-runtime-cu12==12.4.127 in /usr/local/lib/python3.11/dist-packages (from torch) (12.4.127)\n",
            "Requirement already satisfied: nvidia-cuda-cupti-cu12==12.4.127 in /usr/local/lib/python3.11/dist-packages (from torch) (12.4.127)\n",
            "Requirement already satisfied: nvidia-cudnn-cu12==9.1.0.70 in /usr/local/lib/python3.11/dist-packages (from torch) (9.1.0.70)\n",
            "Requirement already satisfied: nvidia-cublas-cu12==12.4.5.8 in /usr/local/lib/python3.11/dist-packages (from torch) (12.4.5.8)\n",
            "Requirement already satisfied: nvidia-cufft-cu12==11.2.1.3 in /usr/local/lib/python3.11/dist-packages (from torch) (11.2.1.3)\n",
            "Requirement already satisfied: nvidia-curand-cu12==10.3.5.147 in /usr/local/lib/python3.11/dist-packages (from torch) (10.3.5.147)\n",
            "Requirement already satisfied: nvidia-cusolver-cu12==11.6.1.9 in /usr/local/lib/python3.11/dist-packages (from torch) (11.6.1.9)\n",
            "Requirement already satisfied: nvidia-cusparse-cu12==12.3.1.170 in /usr/local/lib/python3.11/dist-packages (from torch) (12.3.1.170)\n",
            "Requirement already satisfied: nvidia-cusparselt-cu12==0.6.2 in /usr/local/lib/python3.11/dist-packages (from torch) (0.6.2)\n",
            "Requirement already satisfied: nvidia-nccl-cu12==2.21.5 in /usr/local/lib/python3.11/dist-packages (from torch) (2.21.5)\n",
            "Requirement already satisfied: nvidia-nvtx-cu12==12.4.127 in /usr/local/lib/python3.11/dist-packages (from torch) (12.4.127)\n",
            "Requirement already satisfied: nvidia-nvjitlink-cu12==12.4.127 in /usr/local/lib/python3.11/dist-packages (from torch) (12.4.127)\n",
            "Requirement already satisfied: triton==3.2.0 in /usr/local/lib/python3.11/dist-packages (from torch) (3.2.0)\n",
            "Requirement already satisfied: sympy==1.13.1 in /usr/local/lib/python3.11/dist-packages (from torch) (1.13.1)\n",
            "Requirement already satisfied: mpmath<1.4,>=1.1.0 in /usr/local/lib/python3.11/dist-packages (from sympy==1.13.1->torch) (1.3.0)\n",
            "Requirement already satisfied: numpy in /usr/local/lib/python3.11/dist-packages (from torchvision) (2.0.2)\n",
            "Requirement already satisfied: pillow!=8.3.*,>=5.3.0 in /usr/local/lib/python3.11/dist-packages (from torchvision) (11.2.1)\n",
            "Requirement already satisfied: contourpy>=1.0.1 in /usr/local/lib/python3.11/dist-packages (from matplotlib) (1.3.2)\n",
            "Requirement already satisfied: cycler>=0.10 in /usr/local/lib/python3.11/dist-packages (from matplotlib) (0.12.1)\n",
            "Requirement already satisfied: fonttools>=4.22.0 in /usr/local/lib/python3.11/dist-packages (from matplotlib) (4.57.0)\n",
            "Requirement already satisfied: kiwisolver>=1.3.1 in /usr/local/lib/python3.11/dist-packages (from matplotlib) (1.4.8)\n",
            "Requirement already satisfied: packaging>=20.0 in /usr/local/lib/python3.11/dist-packages (from matplotlib) (24.2)\n",
            "Requirement already satisfied: pyparsing>=2.3.1 in /usr/local/lib/python3.11/dist-packages (from matplotlib) (3.2.3)\n",
            "Requirement already satisfied: python-dateutil>=2.7 in /usr/local/lib/python3.11/dist-packages (from matplotlib) (2.9.0.post0)\n",
            "Requirement already satisfied: six>=1.5 in /usr/local/lib/python3.11/dist-packages (from python-dateutil>=2.7->matplotlib) (1.17.0)\n",
            "Requirement already satisfied: MarkupSafe>=2.0 in /usr/local/lib/python3.11/dist-packages (from jinja2->torch) (3.0.2)\n"
          ]
        }
      ],
      "source": [
        "!pip install torch torchvision matplotlib"
      ]
    },
    {
      "cell_type": "markdown",
      "source": [
        " ```\n",
        "📦 Etapa 2: Importar bibliotecas\n",
        " ```"
      ],
      "metadata": {
        "id": "IjCQQAIqM3Ot"
      }
    },
    {
      "cell_type": "code",
      "source": [
        "import torch\n",
        "import torch.nn as nn\n",
        "import torch.optim as optim\n",
        "from torch.utils.data import Dataset, DataLoader\n",
        "from torchvision import datasets # Alterado para torchvision\n",
        "import matplotlib.pyplot as plt"
      ],
      "metadata": {
        "id": "fk1HIGN-M6-h"
      },
      "execution_count": 23,
      "outputs": []
    },
    {
      "cell_type": "markdown",
      "source": [
        "\n",
        "\n",
        "```\n",
        "📁 Etapa 3: Carregar apenas os dígitos 4 do MNIST (usando torchvision)\n",
        "```\n",
        "\n"
      ],
      "metadata": {
        "id": "2AU0xw8fM26M"
      }
    },
    {
      "cell_type": "code",
      "source": [
        "class MNIST4Dataset(Dataset):\n",
        "    def __init__(self):\n",
        "        # Carregar o dataset MNIST usando torchvision\n",
        "        mnist_trainset = datasets.MNIST(root='./data', train=True, download=True, transform=None)\n",
        "\n",
        "        # Filtrar para incluir apenas os dígitos '4'\n",
        "        idx = mnist_trainset.targets == 4\n",
        "        data_4_filtered = mnist_trainset.data[idx] # Tensor de formato (N, 28, 28), tipo uint8\n",
        "\n",
        "        # Converter para float, normalizar para [-1, 1] e adicionar dimensão de canal\n",
        "        # Imagens são (H, W), precisamos de (C, H, W) para Conv2d, então (1, 28, 28)\n",
        "        data_normalized = data_4_filtered.float() / 255.0  # Escala para [0, 1]\n",
        "        self.data = (data_normalized * 2.0) - 1.0      # Escala para [-1, 1]\n",
        "        self.data = self.data.unsqueeze(1)   # Adiciona dimensão de canal: (N, 1, 28, 28)\n",
        "\n",
        "    def __len__(self):\n",
        "        return len(self.data)\n",
        "\n",
        "    def __getitem__(self, idx):\n",
        "        return self.data[idx]\n",
        "\n",
        "dataset = MNIST4Dataset()\n",
        "dataloader = DataLoader(dataset, batch_size=64, shuffle=True)"
      ],
      "metadata": {
        "id": "cBBCRV56N1d5"
      },
      "execution_count": 24,
      "outputs": []
    },
    {
      "cell_type": "code",
      "source": [
        "# Visualizar algumas imagens do dataset para confirmar\n",
        "print(f\"Número de amostras do dígito 4: {len(dataset)}\")\n",
        "fig, axs = plt.subplots(1, 5, figsize=(10, 2))\n",
        "for i in range(5):\n",
        "    img = dataset[i].squeeze().numpy() # Remove canal, converte para numpy\n",
        "    axs[i].imshow(img, cmap='gray')\n",
        "    axs[i].set_title(f\"Amostra {i+1}\")\n",
        "    axs[i].axis('off')\n",
        "plt.show()"
      ],
      "metadata": {
        "colab": {
          "base_uri": "https://localhost:8080/",
          "height": 209
        },
        "id": "mj0fryktN5ZT",
        "outputId": "074466ca-b29e-4316-c6a8-dac307448262"
      },
      "execution_count": 25,
      "outputs": [
        {
          "output_type": "stream",
          "name": "stdout",
          "text": [
            "Número de amostras do dígito 4: 5842\n"
          ]
        },
        {
          "output_type": "display_data",
          "data": {
            "text/plain": [
              "<Figure size 1000x200 with 5 Axes>"
            ],
            "image/png": "[encoded data removed]"
          },
          "metadata": {}
        }
      ]
    },
    {
      "cell_type": "markdown",
      "source": [
        "\n",
        "\n",
        "```\n",
        "🧠 Etapa 4: Definir o Discriminador\n",
        "```\n",
        "\n"
      ],
      "metadata": {
        "id": "dPzMfzINM21e"
      }
    },
    {
      "cell_type": "code",
      "source": [
        "class Discriminator(nn.Module):\n",
        "    def __init__(self):\n",
        "        super(Discriminator, self).__init__()\n",
        "        self.model = nn.Sequential(\n",
        "            nn.Conv2d(1, 64, 4, 2, 1, bias=False), # Imagens 1x28x28\n",
        "            nn.LeakyReLU(0.2, inplace=True),\n",
        "            nn.Dropout(0.3), # Adicionado Dropout após primeira conv como no original (mas antes não tinha no código)\n",
        "            # Ação: 64 x 14 x 14\n",
        "            nn.Conv2d(64, 128, 4, 2, 1, bias=False),\n",
        "            nn.BatchNorm2d(128), # Adicionado BatchNorm para estabilidade\n",
        "            nn.LeakyReLU(0.2, inplace=True),\n",
        "            nn.Dropout(0.3),\n",
        "            # Ação: 128 x 7 x 7\n",
        "            nn.Flatten(),\n",
        "            nn.Linear(128 * 7 * 7, 1),\n",
        "            nn.Sigmoid()\n",
        "        )\n",
        "\n",
        "    def forward(self, x):\n",
        "        return self.model(x)\n",
        "\n",
        "# Observação: Adicionei bias=False nas camadas convolucionais e BatchNorm2d no Discriminador, que são práticas comuns em arquiteturas DCGAN e podem ajudar na estabilidade.\n",
        "# O Dropout original foi mantido, embora sua posição possa variar."
      ],
      "metadata": {
        "id": "QfxxP9aIOmAq"
      },
      "execution_count": 26,
      "outputs": []
    },
    {
      "cell_type": "markdown",
      "source": [
        "\n",
        "\n",
        "```\n",
        "🎨 Etapa 5: Definir o Gerador\n",
        "```\n",
        "\n"
      ],
      "metadata": {
        "id": "KVog0MnTM2wU"
      }
    },
    {
      "cell_type": "code",
      "source": [
        "class Generator(nn.Module):\n",
        "    def __init__(self, latent_dim):\n",
        "        super(Generator, self).__init__()\n",
        "        self.model = nn.Sequential(\n",
        "            # Entrada: latent_dim\n",
        "            nn.Linear(latent_dim, 256 * 7 * 7),\n",
        "            # Não há LeakyReLU/BatchNorm1d na versão original diretamente após o Linear antes do Unflatten\n",
        "            # Mas o código fornecido tinha. Vou mantê-lo.\n",
        "            nn.LeakyReLU(0.2, inplace=True),\n",
        "            nn.BatchNorm1d(256 * 7 * 7),\n",
        "            nn.Unflatten(1, (256, 7, 7)),\n",
        "            # Ação: 256 x 7 x 7\n",
        "            nn.ConvTranspose2d(256, 128, 4, 2, 1, bias=False), # output 128 x 14 x 14\n",
        "            nn.BatchNorm2d(128),\n",
        "            nn.LeakyReLU(0.2, inplace=True),\n",
        "            # Ação: 128 x 14 x 14\n",
        "            nn.ConvTranspose2d(128, 1, 4, 2, 1, bias=False),   # output 1 x 28 x 28\n",
        "            nn.Tanh() # Normaliza a saída para [-1, 1]\n",
        "        )\n",
        "\n",
        "    def forward(self, z):\n",
        "        return self.model(z)\n",
        "\n",
        "#Observação: Adicionei bias=False nas camadas ConvTranspose2d do Gerador, uma prática comum em DCGANs quando se usa BatchNorm. A estrutura original do Gerador foi mantida."
      ],
      "metadata": {
        "id": "zLN2fod8O3aP"
      },
      "execution_count": 27,
      "outputs": []
    },
    {
      "cell_type": "markdown",
      "source": [
        "\n",
        "\n",
        "```\n",
        "⚙️ Etapa 6: Inicializar modelos, otimizadores e parâmetros\n",
        "```\n",
        "\n"
      ],
      "metadata": {
        "id": "-uIiICvlM2mG"
      }
    },
    {
      "cell_type": "code",
      "source": [
        "latent_dim = 100\n",
        "# batch_size definido no DataLoader (64)\n",
        "epochs = 100 # Pode precisar de ajuste; 100 é um bom começo\n",
        "lr = 0.0002\n",
        "beta1 = 0.5 # Beta1 recomendado para Adam em GANs\n",
        "beta2 = 0.999\n",
        "\n",
        "device = torch.device(\"cuda\" if torch.cuda.is_available() else \"cpu\")\n",
        "print(f\"Usando dispositivo: {device}\")\n",
        "\n",
        "generator = Generator(latent_dim).to(device)\n",
        "discriminator = Discriminator().to(device)"
      ],
      "metadata": {
        "colab": {
          "base_uri": "https://localhost:8080/"
        },
        "id": "xQ2XDCtTO_8j",
        "outputId": "429700e4-010b-43b6-a97f-e733f8e08da0"
      },
      "execution_count": 28,
      "outputs": [
        {
          "output_type": "stream",
          "name": "stdout",
          "text": [
            "Usando dispositivo: cpu\n"
          ]
        }
      ]
    },
    {
      "cell_type": "code",
      "source": [
        "# Inicialização de pesos (opcional, mas pode ajudar)\n",
        "def weights_init(m):\n",
        "    classname = m.__class__.__name__\n",
        "    if classname.find('Conv') != -1:\n",
        "        nn.init.normal_(m.weight.data, 0.0, 0.02)\n",
        "    elif classname.find('BatchNorm') != -1:\n",
        "        nn.init.normal_(m.weight.data, 1.0, 0.02)\n",
        "        nn.init.constant_(m.bias.data, 0)\n",
        "\n",
        "generator.apply(weights_init)\n",
        "discriminator.apply(weights_init)\n",
        "\n",
        "optimizer_G = optim.Adam(generator.parameters(), lr=lr, betas=(beta1, beta2))\n",
        "optimizer_D = optim.Adam(discriminator.parameters(), lr=lr, betas=(beta1, beta2))\n",
        "loss_fn = nn.BCELoss() # Binary Cross Entropy Loss\n",
        "\n",
        "real_label = 1.\n",
        "fake_label = 0."
      ],
      "metadata": {
        "id": "h2U2qkdtPCvt"
      },
      "execution_count": 29,
      "outputs": []
    },
    {
      "cell_type": "markdown",
      "source": [
        "\n",
        "\n",
        "```\n",
        "🔁 Etapa 7: Treinar a GAN e Visualizar Resultados Parciais\n",
        "```\n",
        "\n"
      ],
      "metadata": {
        "id": "6lSSVu7JM2bf"
      }
    },
    {
      "cell_type": "code",
      "source": [
        "for epoch in range(epochs):\n",
        "    for i, real_imgs in enumerate(dataloader):\n",
        "        real_imgs = real_imgs.to(device)\n",
        "        b_size = real_imgs.size(0)\n",
        "\n",
        "        # --- Treinar o Discriminador ---\n",
        "        optimizer_D.zero_grad()\n",
        "\n",
        "        # Labels para imagens reais e falsas\n",
        "        labels_real = torch.full((b_size,), real_label, dtype=torch.float, device=device)\n",
        "        labels_fake = torch.full((b_size,), fake_label, dtype=torch.float, device=device)\n",
        "\n",
        "        # Perda com imagens reais\n",
        "        output_real = discriminator(real_imgs).view(-1)\n",
        "        loss_real = loss_fn(output_real, labels_real)\n",
        "\n",
        "        # Gerar imagens falsas\n",
        "        noise = torch.randn(b_size, latent_dim, device=device)\n",
        "        fake_imgs = generator(noise)\n",
        "\n",
        "        # Perda com imagens falsas\n",
        "        # Usar .detach() para não calcular gradientes para o gerador aqui\n",
        "        output_fake = discriminator(fake_imgs.detach()).view(-1)\n",
        "        loss_fake = loss_fn(output_fake, labels_fake)\n",
        "\n",
        "        # Perda total do discriminador e otimização\n",
        "        loss_D = loss_real + loss_fake\n",
        "        loss_D.backward()\n",
        "        optimizer_D.step()\n",
        "\n",
        "        # --- Treinar o Gerador ---\n",
        "        optimizer_G.zero_grad()\n",
        "\n",
        "        # O gerador quer que o discriminador pense que as imagens falsas são reais\n",
        "        labels_gen = torch.full((b_size,), real_label, dtype=torch.float, device=device)\n",
        "        output_gen = discriminator(fake_imgs).view(-1) # Não usar .detach() aqui\n",
        "        loss_G = loss_fn(output_gen, labels_gen)\n",
        "\n",
        "        # Perda total do gerador e otimização\n",
        "        loss_G.backward()\n",
        "        optimizer_G.step()\n",
        "\n",
        "    # Imprimir perdas ao final de cada época\n",
        "    print(f\"Epoch [{epoch+1}/{epochs}] | Loss_D: {loss_D.item():.4f} | Loss_G: {loss_G.item():.4f}\")\n",
        "\n",
        "    # Gerar e visualizar imagens (a cada 10 épocas)\n",
        "    if (epoch + 1) % 10 == 0:\n",
        "        with torch.no_grad(): # Não calcular gradientes durante a geração de amostras\n",
        "            # Usar um tensor de ruído fixo para ver a evolução das mesmas amostras (opcional)\n",
        "            # test_noise = getattr(generator, 'fixed_noise', torch.randn(16, latent_dim, device=device))\n",
        "            # generator.fixed_noise = test_noise\n",
        "            test_noise = torch.randn(16, latent_dim, device=device) # Ou gerar novo ruído sempre\n",
        "\n",
        "            generated_imgs = generator(test_noise).cpu() # Mover para CPU para matplotlib\n",
        "\n",
        "        # Ajustar visualização para o formato da imagem de saída do gerador (1, 28, 28)\n",
        "        # As imagens estão em [-1, 1], reescale para [0, 1] para visualização se necessário ou imshow lida bem.\n",
        "        # generated_imgs = (generated_imgs + 1) / 2 # Opcional: reescalar para [0,1]\n",
        "\n",
        "        fig, axs = plt.subplots(4, 4, figsize=(4, 4))\n",
        "        plt.suptitle(f\"Época {epoch+1}\", y=1.02) # Adicionar título com a época\n",
        "        for k_ax, img_tensor in enumerate(generated_imgs):\n",
        "            row, col = k_ax // 4, k_ax % 4\n",
        "            ax = axs[row, col]\n",
        "            ax.imshow(img_tensor.squeeze().numpy(), cmap='gray') # .squeeze() remove a dimensão do canal\n",
        "            ax.axis('off')\n",
        "        plt.tight_layout()\n",
        "        plt.show()"
      ],
      "metadata": {
        "colab": {
          "base_uri": "https://localhost:8080/"
        },
        "id": "hPr4VI73PNQb",
        "outputId": "1813dd79-9376-493d-bdb3-f084dd03f754"
      },
      "execution_count": null,
      "outputs": [
        {
          "output_type": "stream",
          "name": "stdout",
          "text": [
            "Epoch [1/100] | Loss_D: 0.3602 | Loss_G: 1.9476\n",
            "Epoch [2/100] | Loss_D: 0.4738 | Loss_G: 1.8353\n",
            "Epoch [3/100] | Loss_D: 0.7217 | Loss_G: 1.5790\n",
            "Epoch [4/100] | Loss_D: 0.8733 | Loss_G: 0.7849\n",
            "Epoch [5/100] | Loss_D: 0.9333 | Loss_G: 1.1432\n",
            "Epoch [6/100] | Loss_D: 1.1028 | Loss_G: 0.9215\n",
            "Epoch [7/100] | Loss_D: 0.8960 | Loss_G: 1.3306\n"
          ]
        }
      ]
    },
    {
      "cell_type": "markdown",
      "source": [
        "\n",
        "\n",
        "```\n",
        "💾 Etapa 8: Salvar os modelos (após o treinamento)\n",
        "```\n",
        "\n"
      ],
      "metadata": {
        "id": "HFdYB4AZPYPz"
      }
    },
    {
      "cell_type": "code",
      "source": [
        "# Salvar os pesos dos modelos (state_dict)\n",
        "torch.save(generator.state_dict(), \"generator_digit4.pt\")\n",
        "torch.save(discriminator.state_dict(), \"discriminator_digit4.pt\")\n",
        "\n",
        "print(\"Modelos salvos!\")\n",
        "\n",
        "# Para carregar os modelos posteriormente:\n",
        "# generator = Generator(latent_dim)\n",
        "# generator.load_state_dict(torch.load(\"generator_digit4.pt\"))\n",
        "# discriminator = Discriminator()\n",
        "# discriminator.load_state_dict(torch.load(\"discriminator_digit4.pt\"))\n",
        "# generator.to(device)\n",
        "# discriminator.to(device)\n",
        "# generator.eval() # Para inferência\n",
        "# discriminator.eval() # Para inferência"
      ],
      "metadata": {
        "id": "EVXQ_EokPz_g"
      },
      "execution_count": null,
      "outputs": []
    }
  ]
}